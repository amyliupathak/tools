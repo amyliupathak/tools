{
 "cells": [
  {
   "cell_type": "code",
   "execution_count": 1,
   "id": "39a8b3c2",
   "metadata": {},
   "outputs": [
    {
     "ename": "ModuleNotFoundError",
     "evalue": "No module named 'pandas'",
     "output_type": "error",
     "traceback": [
      "\u001b[1;31m---------------------------------------------------------------------------\u001b[0m",
      "\u001b[1;31mModuleNotFoundError\u001b[0m                       Traceback (most recent call last)",
      "Cell \u001b[1;32mIn [1], line 3\u001b[0m\n\u001b[0;32m      1\u001b[0m \u001b[38;5;28;01mimport\u001b[39;00m \u001b[38;5;21;01mtabula\u001b[39;00m\n\u001b[0;32m      2\u001b[0m \u001b[38;5;28;01mimport\u001b[39;00m \u001b[38;5;21;01mos\u001b[39;00m\n\u001b[1;32m----> 3\u001b[0m \u001b[38;5;28;01mimport\u001b[39;00m \u001b[38;5;21;01mpandas\u001b[39;00m \u001b[38;5;28;01mas\u001b[39;00m \u001b[38;5;21;01mpd\u001b[39;00m\n\u001b[0;32m      4\u001b[0m \u001b[38;5;28;01mfrom\u001b[39;00m \u001b[38;5;21;01mpyexcel\u001b[39;00m\u001b[38;5;21;01m.\u001b[39;00m\u001b[38;5;21;01mcookbook\u001b[39;00m \u001b[38;5;28;01mimport\u001b[39;00m merge_all_to_a_book\n\u001b[0;32m      5\u001b[0m \u001b[38;5;28;01mimport\u001b[39;00m \u001b[38;5;21;01mglob\u001b[39;00m\n",
      "\u001b[1;31mModuleNotFoundError\u001b[0m: No module named 'pandas'"
     ]
    }
   ],
   "source": [
    "import tabula\n",
    "import os\n",
    "import pandas as pd\n",
    "from pyexcel.cookbook import merge_all_to_a_book\n",
    "import glob\n",
    "\n"
   ]
  },
  {
   "cell_type": "code",
   "execution_count": 5,
   "id": "ad1b9347",
   "metadata": {},
   "outputs": [
    {
     "name": "stderr",
     "output_type": "stream",
     "text": [
      "Got stderr: Nov 15, 2022 12:09:24 PM org.apache.pdfbox.pdmodel.font.FileSystemFontProvider loadDiskCache\r\n",
      "WARNING: New fonts found, font cache will be re-built\r\n",
      "Nov 15, 2022 12:09:24 PM org.apache.pdfbox.pdmodel.font.FileSystemFontProvider <init>\r\n",
      "WARNING: Building on-disk font cache, this may take a while\r\n",
      "Nov 15, 2022 12:09:25 PM org.apache.pdfbox.pdmodel.font.FileSystemFontProvider <init>\r\n",
      "WARNING: Finished building on-disk font cache, found 645 fonts\r\n",
      "Nov 15, 2022 12:09:25 PM org.apache.fontbox.ttf.KerningSubtable readSubtable0Format2\r\n",
      "INFO: Kerning subtable format 2 not yet supported.\r\n",
      "Nov 15, 2022 12:09:25 PM org.apache.fontbox.ttf.KerningSubtable readSubtable0\r\n",
      "INFO: Unsupported kerning sub-table version: 3\r\n",
      "Nov 15, 2022 12:09:25 PM org.apache.fontbox.ttf.KerningSubtable readSubtable0Format2\r\n",
      "INFO: Kerning subtable format 2 not yet supported.\r\n",
      "Nov 15, 2022 12:09:25 PM org.apache.fontbox.ttf.KerningSubtable readSubtable0\r\n",
      "INFO: Unsupported kerning sub-table version: 3\r\n",
      "\n"
     ]
    }
   ],
   "source": [
    "#Convert pdf table to csv\n",
    "tabula.convert_into_by_batch(\"not_converted_traffic_volumes\", output_format='csv', pages='all')"
   ]
  },
  {
   "cell_type": "code",
   "execution_count": 4,
   "id": "f8c915e7",
   "metadata": {},
   "outputs": [],
   "source": [
    "#Rename files. Keep 7 left characters.\n",
    "os.chdir(r\"C:/Users/Amy.LiuPathak/csv\")\n",
    "\n",
    "for index, file in enumerate(os.listdir()):\n",
    "    extension = file[-4:]\n",
    "    os.rename(file, file[:7] + extension)"
   ]
  },
  {
   "cell_type": "code",
   "execution_count": 5,
   "id": "7541edd2",
   "metadata": {},
   "outputs": [],
   "source": [
    "#Combine all csv into one xlsx\n",
    "merge_all_to_a_book(glob.glob(\"*.csv\"), \"combined.xlsx\")"
   ]
  }
 ],
 "metadata": {
  "kernelspec": {
   "display_name": "Python 3 (ipykernel)",
   "language": "python",
   "name": "python3"
  },
  "language_info": {
   "codemirror_mode": {
    "name": "ipython",
    "version": 3
   },
   "file_extension": ".py",
   "mimetype": "text/x-python",
   "name": "python",
   "nbconvert_exporter": "python",
   "pygments_lexer": "ipython3",
   "version": "3.10.8"
  }
 },
 "nbformat": 4,
 "nbformat_minor": 5
}
