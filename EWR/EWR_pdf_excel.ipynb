{
 "cells": [
  {
   "cell_type": "code",
   "execution_count": 1,
   "id": "39a8b3c2",
   "metadata": {},
   "outputs": [],
   "source": [
    "import tabula\n",
    "import os\n",
    "import pandas as pd\n",
    "from pyexcel.cookbook import merge_all_to_a_book\n",
    "import glob"
   ]
  },
  {
   "cell_type": "code",
   "execution_count": 2,
   "id": "b002070c",
   "metadata": {},
   "outputs": [
    {
     "name": "stdout",
     "output_type": "stream",
     "text": [
      "C:\\Users\\Amy.LiuPathak\\Python\\EWR\n"
     ]
    }
   ],
   "source": [
    "%cd C:\\Users\\Amy.LiuPathak\\Python\\EWR"
   ]
  },
  {
   "cell_type": "code",
   "execution_count": 4,
   "id": "ad1b9347",
   "metadata": {},
   "outputs": [
    {
     "name": "stderr",
     "output_type": "stream",
     "text": [
      "Got stderr: Nov 15, 2022 3:44:58 PM org.apache.fontbox.ttf.KerningSubtable readSubtable0Format2\r\n",
      "INFO: Kerning subtable format 2 not yet supported.\r\n",
      "Nov 15, 2022 3:44:58 PM org.apache.fontbox.ttf.KerningSubtable readSubtable0\r\n",
      "INFO: Unsupported kerning sub-table version: 3\r\n",
      "Nov 15, 2022 3:44:59 PM org.apache.fontbox.ttf.KerningSubtable readSubtable0Format2\r\n",
      "INFO: Kerning subtable format 2 not yet supported.\r\n",
      "Nov 15, 2022 3:44:59 PM org.apache.fontbox.ttf.KerningSubtable readSubtable0\r\n",
      "INFO: Unsupported kerning sub-table version: 3\r\n",
      "\n"
     ]
    }
   ],
   "source": [
    "#Convert pdf table to csv\n",
    "tabula.convert_into_by_batch(\"pdf\", output_format='csv', pages='all')"
   ]
  },
  {
   "cell_type": "code",
   "execution_count": 6,
   "id": "f8c915e7",
   "metadata": {},
   "outputs": [],
   "source": [
    "#Rename files. Keep 7 left characters.\n",
    "os.chdir(r\"C:/Users/Amy.LiuPathak/Python/EWR/EWR_data\")\n",
    "for index, file in enumerate(os.listdir()):\n",
    "    extension = file[-4:]\n",
    "    os.rename(file, file[:7] + extension)"
   ]
  },
  {
   "cell_type": "code",
   "execution_count": 3,
   "id": "7541edd2",
   "metadata": {},
   "outputs": [],
   "source": [
    "#Combine all csv into one xlsx\n",
    "merge_all_to_a_book(glob.glob(\"*.csv\"), \"combined.xlsx\")"
   ]
  }
 ],
 "metadata": {
  "kernelspec": {
   "display_name": "Python 3 (ipykernel)",
   "language": "python",
   "name": "python3"
  },
  "language_info": {
   "codemirror_mode": {
    "name": "ipython",
    "version": 3
   },
   "file_extension": ".py",
   "mimetype": "text/x-python",
   "name": "python",
   "nbconvert_exporter": "python",
   "pygments_lexer": "ipython3",
   "version": "3.10.8"
  }
 },
 "nbformat": 4,
 "nbformat_minor": 5
}
